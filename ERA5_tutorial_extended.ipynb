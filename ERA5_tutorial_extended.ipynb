{
 "cells": [
  {
   "cell_type": "markdown",
   "id": "10314cd2",
   "metadata": {},
   "source": [
    "# Tutorial"
   ]
  },
  {
   "cell_type": "markdown",
   "id": "4f73c799",
   "metadata": {},
   "source": [
    "This run-through tutorial is intended to display a variety of methods for combining datasets using the `kerchunk.combine.MultiZarrtoZarr` API.\n",
    "\n",
    "Initially we create a pair of single file jsons for two ERA5 variables using `Kerchunk.hdf.SingleHdf5ToZarr`. This ERA5 dataset is free to access and so it is possible to replicate this workflow on a local machine without credentials."
   ]
  },
  {
   "cell_type": "markdown",
   "id": "571fdac3",
   "metadata": {},
   "source": [
    "## Single file JSONs"
   ]
  },
  {
   "cell_type": "markdown",
   "id": "d6a2e414",
   "metadata": {},
   "source": [
    "The ``Kerchunk.hdf.SingleHdf5ToZarr`` method is used to create a single ``.json`` reference file for each file url passed to it. Here we use it to create a number of reference files for the ERA5 pubic dataset on [AWS](https://registry.opendata.aws/ecmwf-era5/). We will compute a number of different times and variables to demonstrate different methods of combining them.\n",
    "\n",
    "The Kerchunk package is still in a devolpment phase and so changes frequently. Installing directly from the source code is recommended. "
   ]
  },
  {
   "cell_type": "code",
   "execution_count": 1,
   "id": "eb69aeca",
   "metadata": {},
   "outputs": [],
   "source": [
    "# !pip install git+https://github.com/fsspec/kerchunk"
   ]
  },
  {
   "cell_type": "markdown",
   "id": "76e41edc",
   "metadata": {},
   "source": [
    "Here we are considering Netcdf4 files and so use the kerchunk `hdf` module. Support for `fits`, `grib2`, `tiff`, `netCDF3` and `zarr` are available in other kerchunk modules. Alternatively it is also possible to manually create reference jsons for more specific cases. The Earth Big Data [example](https://github.com/fsspec/kerchunk/blob/main/examples/earthbigdata.ipynb) provides a demonstration of this."
   ]
  },
  {
   "cell_type": "code",
   "execution_count": 2,
   "id": "8ae782af",
   "metadata": {},
   "outputs": [],
   "source": [
    "from kerchunk.hdf import SingleHdf5ToZarr \n",
    "import fsspec"
   ]
  },
  {
   "cell_type": "markdown",
   "id": "61f84880",
   "metadata": {},
   "source": [
    "Using fsspec to create a pythonic filesystem, provides a convenient way to manage file urls."
   ]
  },
  {
   "cell_type": "code",
   "execution_count": 3,
   "id": "48e531db",
   "metadata": {},
   "outputs": [],
   "source": [
    "fs = fsspec.filesystem('s3', anon=True) #S3 file system to manage ERA5 files\n",
    "flist = (fs.glob('s3://era5-pds/2020/*/data/air_pressure_at_mean_sea_level.nc')[:2]\n",
    "        + fs.glob('s3://era5-pds/2020/*/data/*sea_surface_temperature.nc')[:2])"
   ]
  },
  {
   "cell_type": "code",
   "execution_count": 4,
   "id": "470f9c2f",
   "metadata": {},
   "outputs": [],
   "source": [
    "fs2 = fsspec.filesystem('')  #local file system to save final jsons to"
   ]
  },
  {
   "cell_type": "code",
   "execution_count": 5,
   "id": "3f2e9479",
   "metadata": {},
   "outputs": [],
   "source": [
    "from pathlib import Path\n",
    "import os\n",
    "import ujson\n",
    "\n",
    "so = dict(mode='rb', anon=True, default_fill_cache=False, default_cache_type='first') # args to fs.open()\n",
    "# default_fill_cache=False avoids caching data in between file chunks to lowers memory usage.\n",
    "\n",
    "def gen_json(file):\n",
    "    with fs.open(file, **so) as infile:\n",
    "        h5chunks = SingleHdf5ToZarr(infile, file, inline_threshold=300) \n",
    "        # inline threshold adjusts the Size below which binary blocks are included directly in the output\n",
    "        # a higher inline threshold can result in a larger json file but faster loading time\n",
    "        variable = file.split('/')[-1].split('.')[0]\n",
    "        month = file.split('/')[2] \n",
    "        outf = f'{month}_{variable}.json' #file name to save json to\n",
    "        with fs2.open(outf, 'wb') as f:\n",
    "            f.write(ujson.dumps(h5chunks.translate()).encode());"
   ]
  },
  {
   "cell_type": "markdown",
   "id": "b135c67a",
   "metadata": {},
   "source": [
    "ERA5-pds is located in us-west-2 and so depending on where this computation is taking place the time taken can vary dramatically and is likely to be faster than this."
   ]
  },
  {
   "cell_type": "code",
   "execution_count": 6,
   "id": "c4aeb677",
   "metadata": {},
   "outputs": [
    {
     "name": "stdout",
     "output_type": "stream",
     "text": [
      "CPU times: user 7.66 s, sys: 1.74 s, total: 9.4 s\n",
      "Wall time: 1min 25s\n"
     ]
    }
   ],
   "source": [
    "%%time\n",
    "for file in flist:\n",
    "    gen_json(file)"
   ]
  },
  {
   "cell_type": "markdown",
   "id": "f87f2e50",
   "metadata": {},
   "source": [
    "The `.json` reference files we have generated can now be used to open virtual datasets through xarray. To achieve this it is first neccessary to create a mapping of the reference file using `fsspec`. Here specifying that the reference json is pointing to files stored on AWS."
   ]
  },
  {
   "cell_type": "code",
   "execution_count": 7,
   "id": "7e736379",
   "metadata": {},
   "outputs": [],
   "source": [
    "import xarray as xr"
   ]
  },
  {
   "cell_type": "code",
   "execution_count": 8,
   "id": "a0dc227a",
   "metadata": {},
   "outputs": [
    {
     "name": "stdout",
     "output_type": "stream",
     "text": [
      "<xarray.Dataset>\n",
      "Dimensions:                         (time0: 744, lat: 721, lon: 1440)\n",
      "Coordinates:\n",
      "  * lat                             (lat) float32 90.0 89.75 ... -89.75 -90.0\n",
      "  * lon                             (lon) float32 nan 0.25 0.5 ... 359.5 359.8\n",
      "  * time0                           (time0) datetime64[ns] 2020-01-01 ... 202...\n",
      "Data variables:\n",
      "    air_pressure_at_mean_sea_level  (time0, lat, lon) float32 dask.array<chunksize=(24, 100, 100), meta=np.ndarray>\n",
      "Attributes:\n",
      "    institution:  ECMWF\n",
      "    source:       Reanalysis\n",
      "    title:        ERA5 forecasts\n",
      "CPU times: user 136 ms, sys: 23 ms, total: 159 ms\n",
      "Wall time: 426 ms\n"
     ]
    }
   ],
   "source": [
    "%%time\n",
    "fs_ = fsspec.filesystem(\"reference\", fo='01_air_pressure_at_mean_sea_level.json', ref_storage_args={'skip_instance_cache':True},\n",
    "                       remote_protocol='s3', remote_options={'anon':True})\n",
    "m = fs_.get_mapper(\"\")\n",
    "ds = xr.open_dataset(m, engine=\"zarr\", backend_kwargs={'consolidated':False}, chunks={})\n",
    "print(ds)"
   ]
  },
  {
   "cell_type": "markdown",
   "id": "e97b33bb",
   "metadata": {},
   "source": [
    "## Combine multiple kerchunk'd datasets into a single logical aggregate dataset"
   ]
  },
  {
   "cell_type": "markdown",
   "id": "7942c744",
   "metadata": {},
   "source": [
    "The `Kerchunk.combine.MultiZarrtoZarr` method combines the `.json` reference files generated above to create a single virtual dataset, such that one reference file maps to all of the chunks in the individual files."
   ]
  },
  {
   "cell_type": "code",
   "execution_count": 9,
   "id": "cf2fb364",
   "metadata": {},
   "outputs": [],
   "source": [
    "from kerchunk.combine import MultiZarrToZarr"
   ]
  },
  {
   "cell_type": "markdown",
   "id": "c499c11e",
   "metadata": {},
   "source": [
    "MultiZarrtoZarr provides a number of convenience methods to combine reference files. The simplest is to concatenate along a specified dimension using the `concat_dims` argument, Time0 in this instance. Specifying the identical coordinate across the files using the `identical_dims` argument is not strictly neccessary but will speed up computation times."
   ]
  },
  {
   "cell_type": "code",
   "execution_count": 10,
   "id": "cb7e5328",
   "metadata": {},
   "outputs": [],
   "source": [
    "json_list = fs2.glob(\"*_air_pressure_at_mean_sea_level.json\")\n",
    "\n",
    "mzz = MultiZarrToZarr(json_list,                \n",
    "    remote_protocol='s3',\n",
    "    remote_options={'anon':True},\n",
    "    concat_dims=['time0'],\n",
    "    identical_dims = ['lat', 'lon'])\n",
    "\n",
    "d = mzz.translate()\n",
    "\n",
    "with fs2.open('air_pressure_at_mean_sea_level_combined.json', 'wb') as f:\n",
    "    f.write(ujson.dumps(d).encode())"
   ]
  },
  {
   "cell_type": "markdown",
   "id": "49c013ef",
   "metadata": {},
   "source": [
    "The reference json we have just generated can now be opened to reveal a single virtual dataset spanning both the input files, with little to no latency."
   ]
  },
  {
   "cell_type": "code",
   "execution_count": 11,
   "id": "e2bb1358",
   "metadata": {},
   "outputs": [
    {
     "name": "stdout",
     "output_type": "stream",
     "text": [
      "<xarray.Dataset>\n",
      "Dimensions:                         (time0: 1440, lat: 721, lon: 1440)\n",
      "Coordinates:\n",
      "  * lat                             (lat) float32 90.0 89.75 ... -89.75 -90.0\n",
      "  * lon                             (lon) float32 nan 0.25 0.5 ... 359.5 359.8\n",
      "  * time0                           (time0) datetime64[ns] 2020-01-01 ... 202...\n",
      "Data variables:\n",
      "    air_pressure_at_mean_sea_level  (time0, lat, lon) float32 ...\n",
      "Attributes:\n",
      "    institution:  ECMWF\n",
      "    source:       Reanalysis\n",
      "    title:        ERA5 forecasts\n",
      "CPU times: user 28.8 ms, sys: 3.18 ms, total: 31.9 ms\n",
      "Wall time: 31.1 ms\n"
     ]
    }
   ],
   "source": [
    "%%time\n",
    "m = fsspec.filesystem(\"reference\", fo=d).get_mapper(\"\")\n",
    "ds = xr.open_dataset(m, engine=\"zarr\", consolidated=False)\n",
    "print(ds)"
   ]
  },
  {
   "cell_type": "markdown",
   "id": "02fea21b",
   "metadata": {},
   "source": [
    "### Using coo_map"
   ]
  },
  {
   "cell_type": "markdown",
   "id": "6c9f32cf",
   "metadata": {},
   "source": [
    "When the dimension along which we would like to concatenate is not already in the dataset, or when considering datasets from across an ensemble we can use the ``coo_map`` argument to create a new dimension."
   ]
  },
  {
   "cell_type": "code",
   "execution_count": 12,
   "id": "a86ad20e",
   "metadata": {},
   "outputs": [],
   "source": [
    "new_dims = ['a' , 'b']\n",
    "\n",
    "mzz = MultiZarrToZarr(json_list,                \n",
    "    remote_protocol='s3',\n",
    "    remote_options={'anon':True},\n",
    "    coo_map = {'new_dimension':new_dims},\n",
    "    concat_dims=['new_dimension'],\n",
    "    identical_dims = ['lat', 'lon']\n",
    ")\n",
    "\n",
    "d = mzz.translate()"
   ]
  },
  {
   "cell_type": "code",
   "execution_count": 13,
   "id": "0e8948e3",
   "metadata": {},
   "outputs": [
    {
     "name": "stdout",
     "output_type": "stream",
     "text": [
      "<xarray.Dataset>\n",
      "Dimensions:                         (new_dimension: 2, time0: 744, lat: 721,\n",
      "                                     lon: 1440)\n",
      "Coordinates:\n",
      "  * lat                             (lat) float32 90.0 89.75 ... -89.75 -90.0\n",
      "  * lon                             (lon) float32 nan 0.25 0.5 ... 359.5 359.8\n",
      "  * new_dimension                   (new_dimension) object 'a' 'b'\n",
      "  * time0                           (time0) datetime64[ns] 2020-01-01 ... 202...\n",
      "Data variables:\n",
      "    air_pressure_at_mean_sea_level  (new_dimension, time0, lat, lon) float32 ...\n",
      "Attributes:\n",
      "    institution:  ECMWF\n",
      "    source:       Reanalysis\n",
      "    title:        ERA5 forecasts\n"
     ]
    }
   ],
   "source": [
    "m = fsspec.filesystem(\"reference\", fo=d).get_mapper(\"\")\n",
    "ds = xr.open_dataset(m, engine=\"zarr\", consolidated=False)\n",
    "print(ds)"
   ]
  },
  {
   "cell_type": "markdown",
   "id": "a4b62f8a",
   "metadata": {},
   "source": [
    "For more complex uses it is also possible to pass in a compiled `regex` function which operates on the input file url's to generate a unique variable for each file."
   ]
  },
  {
   "cell_type": "code",
   "execution_count": 14,
   "id": "44efa94f",
   "metadata": {},
   "outputs": [],
   "source": [
    "import re\n",
    "ex = re.compile(r'.*(\\d+)_air')"
   ]
  },
  {
   "cell_type": "code",
   "execution_count": 15,
   "id": "dcc2e02e",
   "metadata": {},
   "outputs": [
    {
     "data": {
      "text/plain": [
       "'1'"
      ]
     },
     "execution_count": 15,
     "metadata": {},
     "output_type": "execute_result"
    }
   ],
   "source": [
    "ex.match(json_list[0]).groups()[0]"
   ]
  },
  {
   "cell_type": "code",
   "execution_count": 16,
   "id": "33ea5ce4",
   "metadata": {},
   "outputs": [],
   "source": [
    "mzz = MultiZarrToZarr(json_list,                \n",
    "    remote_protocol='s3',\n",
    "    remote_options={'anon':True},\n",
    "    coo_map = {'new_dimension':ex},\n",
    "    concat_dims=['new_dimension'],\n",
    "    identical_dims = ['lat', 'lon']\n",
    ")\n",
    "\n",
    "d = mzz.translate()"
   ]
  },
  {
   "cell_type": "code",
   "execution_count": 17,
   "id": "d423de0a",
   "metadata": {},
   "outputs": [
    {
     "name": "stdout",
     "output_type": "stream",
     "text": [
      "<xarray.Dataset>\n",
      "Dimensions:                         (new_dimension: 2, time0: 744, lat: 721,\n",
      "                                     lon: 1440)\n",
      "Coordinates:\n",
      "  * lat                             (lat) float32 90.0 89.75 ... -89.75 -90.0\n",
      "  * lon                             (lon) float32 nan 0.25 0.5 ... 359.5 359.8\n",
      "  * new_dimension                   (new_dimension) object '1' '2'\n",
      "  * time0                           (time0) datetime64[ns] 2020-01-01 ... 202...\n",
      "Data variables:\n",
      "    air_pressure_at_mean_sea_level  (new_dimension, time0, lat, lon) float32 ...\n",
      "Attributes:\n",
      "    institution:  ECMWF\n",
      "    source:       Reanalysis\n",
      "    title:        ERA5 forecasts\n"
     ]
    }
   ],
   "source": [
    "m = fsspec.filesystem(\"reference\", fo=d).get_mapper(\"\")\n",
    "ds = xr.open_dataset(m, engine=\"zarr\", consolidated=False)\n",
    "print(ds)"
   ]
  },
  {
   "cell_type": "markdown",
   "id": "42fe1965",
   "metadata": {},
   "source": [
    "Similarly we can map each file to a new variable using the special `var` character in coo_map. Here we use the same `regex` function but instead map these as new variables."
   ]
  },
  {
   "cell_type": "code",
   "execution_count": 18,
   "id": "dc3a91cc",
   "metadata": {},
   "outputs": [],
   "source": [
    "mzz = MultiZarrToZarr(json_list,                \n",
    "    remote_protocol='s3',\n",
    "    remote_options={'anon':True},\n",
    "    coo_map = {\"var\":ex},\n",
    "    concat_dims=['time0'],\n",
    "    identical_dims = ['lat', 'lon']\n",
    ")\n",
    "\n",
    "d = mzz.translate()"
   ]
  },
  {
   "cell_type": "code",
   "execution_count": 19,
   "id": "b8cfaa94",
   "metadata": {},
   "outputs": [
    {
     "name": "stdout",
     "output_type": "stream",
     "text": [
      "<xarray.Dataset>\n",
      "Dimensions:  (time0: 1440, lat: 721, lon: 1440)\n",
      "Coordinates:\n",
      "  * lat      (lat) float32 90.0 89.75 89.5 89.25 ... -89.25 -89.5 -89.75 -90.0\n",
      "  * lon      (lon) float32 nan 0.25 0.5 0.75 1.0 ... 359.0 359.2 359.5 359.8\n",
      "  * time0    (time0) datetime64[ns] 2020-01-01 ... 2020-02-29T23:00:00\n",
      "Data variables:\n",
      "    1        (time0, lat, lon) float32 ...\n",
      "    2        (time0, lat, lon) float32 ...\n",
      "Attributes:\n",
      "    institution:  ECMWF\n",
      "    source:       Reanalysis\n",
      "    title:        ERA5 forecasts\n"
     ]
    }
   ],
   "source": [
    "m = fsspec.filesystem(\"reference\", fo=d).get_mapper(\"\")\n",
    "ds = xr.open_dataset(m, engine=\"zarr\", consolidated=False)\n",
    "print(ds)"
   ]
  },
  {
   "cell_type": "markdown",
   "id": "f2c3e17c",
   "metadata": {},
   "source": [
    "Another special character in `coo_map` is `attr:`. This allows the user to access variables from the file attributes."
   ]
  },
  {
   "cell_type": "code",
   "execution_count": 20,
   "id": "fb8a209e",
   "metadata": {},
   "outputs": [],
   "source": [
    "mzz = MultiZarrToZarr(json_list,                \n",
    "    remote_protocol='s3',\n",
    "    remote_options={'anon':True},\n",
    "    coo_map = {\"var\":\"attr:institution\"},\n",
    "    concat_dims=['time0'],\n",
    "    identical_dims = ['lat', 'lon']\n",
    ")\n",
    "\n",
    "d = mzz.translate()"
   ]
  },
  {
   "cell_type": "code",
   "execution_count": 21,
   "id": "42e51e24",
   "metadata": {},
   "outputs": [
    {
     "name": "stdout",
     "output_type": "stream",
     "text": [
      "<xarray.Dataset>\n",
      "Dimensions:  (time0: 1440, lat: 721, lon: 1440)\n",
      "Coordinates:\n",
      "  * lat      (lat) float32 90.0 89.75 89.5 89.25 ... -89.25 -89.5 -89.75 -90.0\n",
      "  * lon      (lon) float32 nan 0.25 0.5 0.75 1.0 ... 359.0 359.2 359.5 359.8\n",
      "  * time0    (time0) datetime64[ns] 2020-01-01 ... 2020-02-29T23:00:00\n",
      "Data variables:\n",
      "    ECMWF    (time0, lat, lon) float32 ...\n",
      "Attributes:\n",
      "    institution:  ECMWF\n",
      "    source:       Reanalysis\n",
      "    title:        ERA5 forecasts\n"
     ]
    }
   ],
   "source": [
    "m = fsspec.filesystem(\"reference\", fo=d).get_mapper(\"\")\n",
    "ds = xr.open_dataset(m, engine=\"zarr\", consolidated=False)\n",
    "print(ds)"
   ]
  },
  {
   "cell_type": "markdown",
   "id": "1eeb3202",
   "metadata": {},
   "source": [
    "The special charactar ``vattr:{var}:`` allows access to variable attributes. Here renaming the variable to instead use it’s short name. \n",
    "\n",
    "There are a number of other special characters for ``coo_map`` documented in the [API reference](https://fsspec.github.io/kerchunk/reference.html#kerchunk.combine.MultiZarrToZarr)"
   ]
  },
  {
   "cell_type": "code",
   "execution_count": 22,
   "id": "2984cea2",
   "metadata": {},
   "outputs": [],
   "source": [
    "mzz = MultiZarrToZarr(json_list,                \n",
    "    remote_protocol='s3',\n",
    "    remote_options={'anon':True},\n",
    "    coo_map = {\"var\":\"vattr:air_pressure_at_mean_sea_level:shortNameECMWF\"},\n",
    "    concat_dims=['time0'],\n",
    "    identical_dims = ['lat', 'lon']\n",
    ")\n",
    "\n",
    "d = mzz.translate()"
   ]
  },
  {
   "cell_type": "code",
   "execution_count": 23,
   "id": "f165cd0f",
   "metadata": {},
   "outputs": [
    {
     "name": "stdout",
     "output_type": "stream",
     "text": [
      "<xarray.Dataset>\n",
      "Dimensions:  (lat: 721, lon: 1440, time0: 1440)\n",
      "Coordinates:\n",
      "  * lat      (lat) float32 90.0 89.75 89.5 89.25 ... -89.25 -89.5 -89.75 -90.0\n",
      "  * lon      (lon) float32 nan 0.25 0.5 0.75 1.0 ... 359.0 359.2 359.5 359.8\n",
      "  * time0    (time0) datetime64[ns] 2020-01-01 ... 2020-02-29T23:00:00\n",
      "Data variables:\n",
      "    msl      (time0, lat, lon) float32 ...\n",
      "Attributes:\n",
      "    institution:  ECMWF\n",
      "    source:       Reanalysis\n",
      "    title:        ERA5 forecasts\n"
     ]
    }
   ],
   "source": [
    "m = fsspec.filesystem(\"reference\", fo=d).get_mapper(\"\")\n",
    "ds = xr.open_dataset(m, engine=\"zarr\", consolidated=False)\n",
    "print(ds)"
   ]
  },
  {
   "cell_type": "markdown",
   "id": "45942a25",
   "metadata": {},
   "source": [
    "### Merging variables across jsons"
   ]
  },
  {
   "cell_type": "markdown",
   "id": "effb11e2",
   "metadata": {},
   "source": [
    "The `Kerchunk.combine.merge_vars` convenienve function can be used to merge variables across datasets if we know the coordinates and global file attributes are identical. "
   ]
  },
  {
   "cell_type": "code",
   "execution_count": 24,
   "id": "3de28e7a",
   "metadata": {},
   "outputs": [
    {
     "name": "stdout",
     "output_type": "stream",
     "text": [
      "<xarray.Dataset>\n",
      "Dimensions:                         (time0: 744, lat: 721, lon: 1440)\n",
      "Coordinates:\n",
      "  * lat                             (lat) float32 90.0 89.75 ... -89.75 -90.0\n",
      "  * lon                             (lon) float32 nan 0.25 0.5 ... 359.5 359.8\n",
      "  * time0                           (time0) datetime64[ns] 2020-01-01 ... 202...\n",
      "Data variables:\n",
      "    air_pressure_at_mean_sea_level  (time0, lat, lon) float32 ...\n",
      "    sea_surface_temperature         (time0, lat, lon) float32 ...\n",
      "Attributes:\n",
      "    institution:  ECMWF\n",
      "    source:       Reanalysis\n",
      "    title:        ERA5 forecasts\n"
     ]
    }
   ],
   "source": [
    "from kerchunk.combine import merge_vars\n",
    "\n",
    "json_list = fs2.glob(\"01_sea_surface_temperature.json\") + fs2.glob(\"01_air_pressure_at_mean_sea_level.json\")\n",
    "\n",
    "d = merge_vars(json_list)\n",
    "\n",
    "m = fsspec.filesystem(\"reference\", fo=d).get_mapper(\"\")\n",
    "ds = xr.open_dataset(m, engine=\"zarr\", consolidated=False)\n",
    "print(ds)"
   ]
  },
  {
   "cell_type": "markdown",
   "id": "cc931f30",
   "metadata": {},
   "source": [
    "### Preprocessing"
   ]
  },
  {
   "cell_type": "markdown",
   "id": "0bd56860",
   "metadata": {},
   "source": [
    "Pre-process can be used to apply arbitrary functions to the refs item in the input jsons before combining. In this case we use preprocessing to drop the `air_pressure_at_mean_sea_level` variable before combining `sea_surface_temperature` with a json containing data for the following month."
   ]
  },
  {
   "cell_type": "code",
   "execution_count": 25,
   "id": "39b5c402",
   "metadata": {},
   "outputs": [],
   "source": [
    "def pre_process(refs):\n",
    "    for k in list(refs):\n",
    "        if k.startswith('air_pressure_at_mean_sea_level'):\n",
    "            refs.pop(k)\n",
    "    return refs"
   ]
  },
  {
   "cell_type": "code",
   "execution_count": 26,
   "id": "b1c2e11a",
   "metadata": {},
   "outputs": [],
   "source": [
    "json_list = fs2.glob(\"vars_combined.json\") + fs2.glob(\"02_sea_surface_temperature.json\")"
   ]
  },
  {
   "cell_type": "code",
   "execution_count": 27,
   "id": "c7eedbca",
   "metadata": {},
   "outputs": [],
   "source": [
    "mzz = MultiZarrToZarr(json_list,                \n",
    "    remote_protocol='s3',\n",
    "    remote_options={'anon':True},\n",
    "    concat_dims=['time0'],\n",
    "    identical_dims = ['lat', 'lon'],\n",
    "    preprocess = pre_process)\n",
    "\n",
    "d = mzz.translate()"
   ]
  },
  {
   "cell_type": "code",
   "execution_count": 28,
   "id": "cc2bb022",
   "metadata": {},
   "outputs": [],
   "source": [
    "with fs2.open('sea_surface_temperature_combined.json', 'wb') as f:\n",
    "    f.write(ujson.dumps(d).encode())"
   ]
  },
  {
   "cell_type": "code",
   "execution_count": 29,
   "id": "006306ae",
   "metadata": {},
   "outputs": [
    {
     "name": "stdout",
     "output_type": "stream",
     "text": [
      "<xarray.Dataset>\n",
      "Dimensions:                  (lat: 721, lon: 1440, time0: 696)\n",
      "Coordinates:\n",
      "  * lat                      (lat) float32 90.0 89.75 89.5 ... -89.75 -90.0\n",
      "  * lon                      (lon) float32 nan 0.25 0.5 ... 359.2 359.5 359.8\n",
      "  * time0                    (time0) datetime64[ns] 2020-02-01 ... 2020-02-29...\n",
      "Data variables:\n",
      "    sea_surface_temperature  (time0, lat, lon) float32 ...\n",
      "Attributes:\n",
      "    institution:  ECMWF\n",
      "    source:       Reanalysis\n",
      "    title:        ERA5 forecasts\n"
     ]
    }
   ],
   "source": [
    "m = fsspec.filesystem(\"reference\", fo=d).get_mapper(\"\")\n",
    "ds = xr.open_dataset(m, engine=\"zarr\", consolidated=False)\n",
    "print(ds)"
   ]
  },
  {
   "cell_type": "markdown",
   "id": "7f303edc",
   "metadata": {},
   "source": [
    "### Postprocessing"
   ]
  },
  {
   "cell_type": "markdown",
   "id": "62a74945",
   "metadata": {},
   "source": [
    "Similarly post-process can be used to apply an arbitrary function to the final dictionary before returning.\n",
    "A known issue with this partcular dataset is that no fill value has been assigned to the lat and lon coordinates and thus default to 0, here we use post process to change the zarr fill_value attribute by opening the final json as a zarr store. \n",
    "\n",
    "Changing the fill_values could also be achieved by editing the final json through string manipulations or even a simple find and replace through an IDE."
   ]
  },
  {
   "cell_type": "code",
   "execution_count": 30,
   "id": "3717e91e",
   "metadata": {},
   "outputs": [],
   "source": [
    "import zarr\n",
    "def modify_fill_value(out):\n",
    "    out_ = zarr.open(out)\n",
    "    out_.lon.fill_value = -999\n",
    "    out_.lat.fill_value = -999\n",
    "    return out\n",
    "\n",
    "def postprocess(out):\n",
    "    out = modify_fill_value(out)\n",
    "    return out"
   ]
  },
  {
   "cell_type": "code",
   "execution_count": 31,
   "id": "88cd866e",
   "metadata": {},
   "outputs": [],
   "source": [
    "json_list = fs2.glob(\"air_pressure_at_mean_sea_level_combined.json\") + fs2.glob(\"sea_surface_temperature_combined.json\")\n",
    "\n",
    "mzz = MultiZarrToZarr(json_list,                \n",
    "    remote_protocol='s3',\n",
    "    remote_options={'anon':True},\n",
    "    concat_dims=['time0'],\n",
    "    identical_dims = ['lat', 'lon'],\n",
    "    postprocess = postprocess)\n",
    "\n",
    "d = mzz.translate()"
   ]
  },
  {
   "cell_type": "code",
   "execution_count": 32,
   "id": "afe943ec",
   "metadata": {},
   "outputs": [],
   "source": [
    "with fs2.open('combined.json', 'wb') as f:\n",
    "    f.write(ujson.dumps(d).encode())"
   ]
  },
  {
   "cell_type": "code",
   "execution_count": 33,
   "id": "b310da0c",
   "metadata": {},
   "outputs": [
    {
     "name": "stdout",
     "output_type": "stream",
     "text": [
      "<xarray.Dataset>\n",
      "Dimensions:                         (time0: 1440, lat: 721, lon: 1440)\n",
      "Coordinates:\n",
      "  * lat                             (lat) float32 90.0 89.75 ... -89.75 -90.0\n",
      "  * lon                             (lon) float32 0.0 0.25 0.5 ... 359.5 359.8\n",
      "  * time0                           (time0) datetime64[ns] 2020-01-01 ... 202...\n",
      "Data variables:\n",
      "    air_pressure_at_mean_sea_level  (time0, lat, lon) float32 ...\n",
      "    sea_surface_temperature         (time0, lat, lon) float32 ...\n",
      "Attributes:\n",
      "    institution:  ECMWF\n",
      "    source:       Reanalysis\n",
      "    title:        ERA5 forecasts\n"
     ]
    }
   ],
   "source": [
    "m = fsspec.filesystem(\"reference\", fo=d).get_mapper(\"\")\n",
    "ds = xr.open_dataset(m, engine=\"zarr\", consolidated=False)\n",
    "print(ds)"
   ]
  },
  {
   "cell_type": "markdown",
   "id": "ff52c2b9",
   "metadata": {},
   "source": [
    "## Using the output"
   ]
  },
  {
   "cell_type": "markdown",
   "id": "4dd60388",
   "metadata": {},
   "source": [
    "To open a previously computed referenced dataset it is not neccessary to have kerchunk installed. Only `fsspec` to generate the file mapping \n",
    "\n",
    "Here we open a remotely stored reference file that maps to 10 ERA5 variables across a 43 year time span\n",
    "\n",
    "The sidecar file has been compressed using zstd, from the original 1.8GB to 194MB. Opening this virtual dataset requires 7GB of free system memory. \n",
    "\n",
    "A smaller file containing only 2 years of data is available at: s3://esip-qhub-public/ecmwf/ERA5_2020_2022_multivar.json.zst"
   ]
  },
  {
   "cell_type": "code",
   "execution_count": 34,
   "id": "31ca1b7f",
   "metadata": {},
   "outputs": [
    {
     "name": "stdout",
     "output_type": "stream",
     "text": [
      "<xarray.Dataset>\n",
      "Dimensions:                               (time0: 380568, lat: 721, lon: 1440)\n",
      "Coordinates:\n",
      "  * lat                                   (lat) float32 90.0 89.75 ... -90.0\n",
      "  * lon                                   (lon) float32 0.0 0.25 ... 359.5 359.8\n",
      "  * time0                                 (time0) datetime64[ns] 1979-01-01 ....\n",
      "Data variables:\n",
      "    air_pressure_at_mean_sea_level        (time0, lat, lon) float32 ...\n",
      "    air_temperature_at_2_metres           (time0, lat, lon) float32 ...\n",
      "    dew_point_temperature_at_2_metres     (time0, lat, lon) float32 ...\n",
      "    eastward_wind_at_100_metres           (time0, lat, lon) float32 ...\n",
      "    eastward_wind_at_10_metres            (time0, lat, lon) float32 ...\n",
      "    lwe_thickness_of_surface_snow_amount  (time0, lat, lon) float32 ...\n",
      "    northward_wind_at_100_metres          (time0, lat, lon) float32 ...\n",
      "    sea_surface_temperature               (time0, lat, lon) float32 ...\n",
      "Attributes:\n",
      "    institution:  ECMWF\n",
      "    source:       Reanalysis\n",
      "    title:        ERA5 forecasts\n",
      "CPU times: user 48.8 s, sys: 5.61 s, total: 54.4 s\n",
      "Wall time: 1min 8s\n"
     ]
    }
   ],
   "source": [
    "%%time\n",
    "fs = fsspec.filesystem(\"reference\", fo='s3://esip-qhub-public/ecmwf/ERA5_1979_2022_multivar.json.zst', \n",
    "                       ref_storage_args={\"compression\": \"zstd\"},\n",
    "                       remote_protocol='s3', remote_options={'anon':True})\n",
    "m = fs.get_mapper(\"\")\n",
    "ds = xr.open_dataset(m, engine=\"zarr\", backend_kwargs={'consolidated':False})\n",
    "print(ds)"
   ]
  },
  {
   "cell_type": "code",
   "execution_count": 35,
   "id": "86fa6cc5",
   "metadata": {},
   "outputs": [
    {
     "name": "stdout",
     "output_type": "stream",
     "text": [
      "CPU times: user 1.52 s, sys: 106 ms, total: 1.62 s\n",
      "Wall time: 14.9 s\n"
     ]
    },
    {
     "data": {
      "text/plain": [
       "<matplotlib.collections.QuadMesh at 0x7f5cec4d3eb0>"
      ]
     },
     "execution_count": 35,
     "metadata": {},
     "output_type": "execute_result"
    },
    {
     "data": {
      "image/png": "[encoded data removed]",
      "text/plain": [
       "<Figure size 432x288 with 2 Axes>"
      ]
     },
     "metadata": {
      "needs_background": "light"
     },
     "output_type": "display_data"
    }
   ],
   "source": [
    "%%time\n",
    "da = ds.sel(time0 = '2021-01-01T00:00:00')\n",
    "da['air_pressure_at_mean_sea_level'].plot()"
   ]
  },
  {
   "cell_type": "code",
   "execution_count": 47,
   "id": "295480de-f794-40b6-8821-dc08543f6e90",
   "metadata": {},
   "outputs": [
    {
     "name": "stdout",
     "output_type": "stream",
     "text": [
      "CPU times: user 2.38 s, sys: 184 ms, total: 2.56 s\n",
      "Wall time: 58.1 s\n"
     ]
    },
    {
     "data": {
      "text/plain": [
       "[<matplotlib.lines.Line2D at 0x7f5ce0518940>]"
      ]
     },
     "execution_count": 47,
     "metadata": {},
     "output_type": "execute_result"
    },
    {
     "data": {
      "image/png": "[encoded data removed]",
      "text/plain": [
       "<Figure size 432x288 with 1 Axes>"
      ]
     },
     "metadata": {
      "needs_background": "light"
     },
     "output_type": "display_data"
    }
   ],
   "source": [
    "%%time\n",
    "da = ds.sel(lat = -34).sel(lon = 198)\n",
    "da.air_temperature_at_2_metres.sel(time0 = slice('2000-01-01','2000-12-31')).plot()"
   ]
  }
 ],
 "metadata": {
  "kernelspec": {
   "display_name": "users-pangeo",
   "language": "python",
   "name": "conda-env-users-pangeo-py"
  },
  "language_info": {
   "codemirror_mode": {
    "name": "ipython",
    "version": 3
   },
   "file_extension": ".py",
   "mimetype": "text/x-python",
   "name": "python",
   "nbconvert_exporter": "python",
   "pygments_lexer": "ipython3",
   "version": "3.9.13"
  },
  "widgets": {
   "application/vnd.jupyter.widget-state+json": {
    "state": {},
    "version_major": 2,
    "version_minor": 0
   }
  }
 },
 "nbformat": 4,
 "nbformat_minor": 5
}
